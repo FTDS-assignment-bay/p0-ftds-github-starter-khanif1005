{
 "cells": [
  {
   "cell_type": "markdown",
   "id": "482fca4e",
   "metadata": {},
   "source": [
    "# Header\n",
    "\n",
    "## Subheader1\n",
    "\n",
    "### Subheader2\n",
    "\n",
    ".\n",
    "\n",
    ".\n",
    "\n",
    "###### 6 hastag"
   ]
  },
  {
   "cell_type": "code",
   "execution_count": null,
   "id": "3b7bfeb2",
   "metadata": {},
   "outputs": [],
   "source": []
  },
  {
   "cell_type": "markdown",
   "id": "09fdfe7a",
   "metadata": {},
   "source": [
    "Gunakan triple dash untuk membuat garis panjang:\n"
   ]
  },
  {
   "cell_type": "markdown",
   "id": "422e3f9b",
   "metadata": {},
   "source": [
    "`*___*`     -> *italic*  \n",
    "`**___**`   -> **bold**  \n",
    "`***___***` -> ***bold_italic***  \n",
    "`` -> petik, untuk sintaks dalam markdown  \n",
    "'' -> kutip 1/ single quote / string  \n",
    "\"\" -> kutip 2/ double quotes / strings"
   ]
  },
  {
   "cell_type": "markdown",
   "id": "044e74a8",
   "metadata": {},
   "source": [
    "rumus bisa pakai simbol `$___$`:  \n",
    "- Dengan simbol:  \n",
    "   $ y = a + 3x^2 $  \n",
    "\n",
    "   \n",
    "- Tanpa simbol:  \n",
    "   y = a + 3X^2"
   ]
  },
  {
   "cell_type": "markdown",
   "id": "c46c9dd8",
   "metadata": {},
   "source": [
    "rumus mau tampil tengah `$$___$$`:\n",
    "$$y = a + 3x^2 $$"
   ]
  },
  {
   "cell_type": "markdown",
   "id": "916b9931",
   "metadata": {},
   "source": [
    "Fungsi petik, semisal kalian mau taruh sintaks di dalam markdown cell.\n",
    "\n",
    "- Dengan petik  \n",
    "```sql\n",
    "SELECT * FROM TABLE_A\n",
    "```\n",
    "\n",
    "- Tanpa petik  \n",
    "SELECT * FROM TABLE_A\n",
    "\n",
    "\n",
    "Semisal mau nulis sintaks python:  \n",
    "- Dengan petik:  \n",
    "```py\n",
    "def rumus luas(p,l):\n",
    "    return p * l\n",
    "```\n",
    "- Tanpa petik:  \n",
    "def rumus luas(p,l):\n",
    "    return p * l"
   ]
  }
 ],
 "metadata": {
  "kernelspec": {
   "display_name": "base",
   "language": "python",
   "name": "python3"
  },
  "language_info": {
   "codemirror_mode": {
    "name": "ipython",
    "version": 3
   },
   "file_extension": ".py",
   "mimetype": "text/x-python",
   "name": "python",
   "nbconvert_exporter": "python",
   "pygments_lexer": "ipython3",
   "version": "3.13.5"
  }
 },
 "nbformat": 4,
 "nbformat_minor": 5
}
