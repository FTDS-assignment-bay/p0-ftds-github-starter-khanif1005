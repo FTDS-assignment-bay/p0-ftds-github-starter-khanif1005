{
 "cells": [
  {
   "cell_type": "code",
   "execution_count": null,
   "id": "15df89dd",
   "metadata": {},
   "outputs": [],
   "source": [
    "2 * 2 "
   ]
  },
  {
   "cell_type": "code",
   "execution_count": null,
   "id": "482fca4e",
   "metadata": {
    "vscode": {
     "languageId": "plaintext"
    }
   },
   "outputs": [],
   "source": []
  }
 ],
 "metadata": {
  "language_info": {
   "name": "python"
  }
 },
 "nbformat": 4,
 "nbformat_minor": 5
}
